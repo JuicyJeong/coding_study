{
 "cells": [
  {
   "cell_type": "markdown",
   "metadata": {},
   "source": [
    "## Class2 - Bronze 2"
   ]
  },
  {
   "cell_type": "code",
   "execution_count": 4,
   "metadata": {},
   "outputs": [
    {
     "name": "stdout",
     "output_type": "stream",
     "text": [
      "4\n",
      "['1', '3', '5', '7']\n",
      "3\n"
     ]
    }
   ],
   "source": [
    "'''\n",
    "1978번\n",
    "주어진 수 N개 중에서 소수가 몇 개인지 찾아서 출력하는 프로그램을 작성하시오.\n",
    "\n",
    "첫 줄에 수의 개수 N이 주어진다. N은 100이하이다. 다음으로 N개의 수가 주어지는데 수는 1,000 이하의 자연수이다.\n",
    "\n",
    "주어진 수들 중 소수의 개수를 출력한다.\n",
    "\n",
    "'''\n",
    "\n",
    "##########################YOUR CODE##################################\n",
    "\n",
    "\n",
    "'''\n",
    "소수: 1과 자신 이외로는 나뉘지 않는 수\n",
    "반복:\n",
    "입력을 소수리스트로 나누었을때,나머지가 0일 경우를 소수로 한다.\n",
    "반복 2부터 하자\n",
    "'''\n",
    "################## 소수 리스트 생성 #######################\n",
    "prime_num_list = []\n",
    "\n",
    "for number in range(2,1001):\n",
    "    if len(prime_num_list)==0:\n",
    "        prime_num_list.append(number) # 2에만 적용됨\n",
    "    \n",
    "    # 3부터... 리스트 돌면서 다 나눠봤을 때 전부 안나눠지면 소수로 판정. append\n",
    "    prime_divide_list = [] # 하나라도 False 있으면 소수 아님\n",
    "    for prime_number in prime_num_list: \n",
    "        if number % prime_number !=0:\n",
    "            prime_divide_list.append(True) # 이걸로 안나눠지면\n",
    "        else:\n",
    "            prime_divide_list.append(False) # 이걸로 나눠지면 \n",
    "    \n",
    "    if False in prime_divide_list: # 이번 숫자는 소수가 아님.\n",
    "        pass\n",
    "    else: # 얘는 소수가 맞음\n",
    "        prime_num_list.append(number)\n",
    "###################################main############################\n",
    "iter = int(input())\n",
    "\n",
    "input_test_num_list = input().split()\n",
    "\n",
    "\n",
    "result = 0\n",
    "\n",
    "for i in range(0, iter):\n",
    "    if int(input_test_num_list[i]) in prime_num_list:\n",
    "        result += 1\n",
    "    \n",
    "print(result)\n"
   ]
  }
 ],
 "metadata": {
  "kernelspec": {
   "display_name": "py38",
   "language": "python",
   "name": "python3"
  },
  "language_info": {
   "codemirror_mode": {
    "name": "ipython",
    "version": 3
   },
   "file_extension": ".py",
   "mimetype": "text/x-python",
   "name": "python",
   "nbconvert_exporter": "python",
   "pygments_lexer": "ipython3",
   "version": "3.8.18"
  }
 },
 "nbformat": 4,
 "nbformat_minor": 2
}
