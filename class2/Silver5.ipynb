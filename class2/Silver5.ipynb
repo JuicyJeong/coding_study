{
 "cells": [
  {
   "cell_type": "markdown",
   "metadata": {},
   "source": [
    "## Class2 - Silver 5"
   ]
  },
  {
   "cell_type": "code",
   "execution_count": 2,
   "metadata": {},
   "outputs": [
    {
     "name": "stdout",
     "output_type": "stream",
     "text": [
      "right\n",
      "right\n",
      "right\n",
      "right\n",
      "right\n",
      "right\n"
     ]
    },
    {
     "ename": "ValueError",
     "evalue": "not enough values to unpack (expected 3, got 0)",
     "output_type": "error",
     "traceback": [
      "\u001b[0;31m---------------------------------------------------------------------------\u001b[0m",
      "\u001b[0;31mValueError\u001b[0m                                Traceback (most recent call last)",
      "Cell \u001b[0;32mIn[2], line 33\u001b[0m\n\u001b[1;32m     28\u001b[0m         \u001b[38;5;28mprint\u001b[39m(\u001b[38;5;124m'\u001b[39m\u001b[38;5;124mwrong\u001b[39m\u001b[38;5;124m'\u001b[39m)\n\u001b[1;32m     32\u001b[0m \u001b[38;5;28;01mwhile\u001b[39;00m \u001b[38;5;28;01mTrue\u001b[39;00m:\n\u001b[0;32m---> 33\u001b[0m     a,b,c \u001b[38;5;241m=\u001b[39m \u001b[38;5;28mmap\u001b[39m(\u001b[38;5;28mint\u001b[39m, \u001b[38;5;28minput\u001b[39m()\u001b[38;5;241m.\u001b[39msplit())\n\u001b[1;32m     35\u001b[0m     \u001b[38;5;28;01mif\u001b[39;00m a\u001b[38;5;241m+\u001b[39mb\u001b[38;5;241m+\u001b[39mc \u001b[38;5;241m!=\u001b[39m \u001b[38;5;241m0\u001b[39m:\n\u001b[1;32m     36\u001b[0m         is_right_triangle(a,b,c)\n",
      "\u001b[0;31mValueError\u001b[0m: not enough values to unpack (expected 3, got 0)"
     ]
    }
   ],
   "source": [
    "'''\n",
    "1181번\n",
    "알파벳 소문자로 이루어진 N개의 단어가 들어오면 아래와 같은 조건에 따라 정렬하는 프로그램을 작성하시오.\n",
    "\n",
    "길이가 짧은 것부터\n",
    "길이가 같으면 사전 순으로\n",
    "단, 중복된 단어는 하나만 남기고 제거해야 한다\n",
    "\n",
    "첫째 줄에 단어의 개수 N이 주어진다. (1 ≤ N ≤ 20,000) 둘째 줄부터 N개의 줄에 걸쳐 알파벳 소문자로 이루어진 단어가 한 줄에 하나씩 주어진다. 주어지는 문자열의 길이는 50을 넘지 않는다.\n",
    "\n",
    "조건에 따라 정렬하여 단어들을 출력한다.\n",
    "\n",
    "'''\n",
    "\n",
    "##########################YOUR CODE##################################\n",
    "\n",
    "# 1. 저장할 리스트 선언 \n",
    "word_list_old = []\n",
    "word_list_new = []\n",
    "\n",
    "# 2. 리스트 안에 입력되는 단어들 전부 집어넣기\n",
    "iter = int(input())\n",
    "for i in range(0,iter):\n",
    "    input_word = input()\n",
    "    word_list_old.append(input_word)\n",
    "\n",
    "\n",
    "# 3. 중복 삭제 먼저\n",
    "word_list_old = list(set(word_list_old))\n",
    "\n",
    "# 4. 딕셔너리 순으로 먼저 정렬하기?\n",
    "\n",
    "word_list_old.sort()\n",
    "\n",
    "# 5. for문으로 새롭게 정렬하기?\n",
    "shortest_len = 100000000000\n",
    "\n",
    "for word in word_list_old:\n",
    "    if len(word)<shortest_len:\n",
    "        shortest_len = len(word)\n",
    "        # print(shortest_len)\n",
    "while len(word_list_old) != len(word_list_new):\n",
    "    for word in word_list_old:\n",
    "        if len(word) == shortest_len:\n",
    "            word_list_new.append(word)\n",
    "            print(word)\n",
    "    shortest_len +=1\n",
    "\n",
    "\n",
    "\n"
   ]
  },
  {
   "cell_type": "code",
   "execution_count": 7,
   "metadata": {},
   "outputs": [
    {
     "name": "stdout",
     "output_type": "stream",
     "text": [
      "5\n",
      "4\n",
      "3\n",
      "['car', 'sex', 'bird', 'apple', 'feeling']\n"
     ]
    }
   ],
   "source": [
    "l = ['bird', 'apple', 'sex', 'car', 'feeling','car']\n",
    "l = list(set(l))\n",
    "l.sort()\n",
    "\n",
    "ll = []\n",
    "\n",
    "shortest_len = 100000000000\n",
    "for word in l:\n",
    "    if len(word)<shortest_len:\n",
    "        shortest_len = len(word)\n",
    "        print(shortest_len)\n",
    "\n",
    "while len(ll) != len(l):\n",
    "    for word in l:\n",
    "        if len(word) == shortest_len:\n",
    "            ll.append(word)\n",
    "    shortest_len += 1\n",
    "\n",
    "\n",
    "print(ll)"
   ]
  }
 ],
 "metadata": {
  "kernelspec": {
   "display_name": "py38",
   "language": "python",
   "name": "python3"
  },
  "language_info": {
   "codemirror_mode": {
    "name": "ipython",
    "version": 3
   },
   "file_extension": ".py",
   "mimetype": "text/x-python",
   "name": "python",
   "nbconvert_exporter": "python",
   "pygments_lexer": "ipython3",
   "version": "3.8.18"
  }
 },
 "nbformat": 4,
 "nbformat_minor": 2
}
