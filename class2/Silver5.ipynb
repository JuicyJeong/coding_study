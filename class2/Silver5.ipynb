{
 "cells": [
  {
   "cell_type": "markdown",
   "metadata": {},
   "source": [
    "## Class2 - Silver 5"
   ]
  },
  {
   "cell_type": "code",
   "execution_count": null,
   "metadata": {},
   "outputs": [],
   "source": [
    "'''\n",
    "1181번\n",
    "알파벳 소문자로 이루어진 N개의 단어가 들어오면 아래와 같은 조건에 따라 정렬하는 프로그램을 작성하시오.\n",
    "\n",
    "길이가 짧은 것부터\n",
    "길이가 같으면 사전 순으로\n",
    "단, 중복된 단어는 하나만 남기고 제거해야 한다\n",
    "\n",
    "첫째 줄에 단어의 개수 N이 주어진다. (1 ≤ N ≤ 20,000) 둘째 줄부터 N개의 줄에 걸쳐 알파벳 소문자로 이루어진 단어가 한 줄에 하나씩 주어진다. 주어지는 문자열의 길이는 50을 넘지 않는다.\n",
    "\n",
    "조건에 따라 정렬하여 단어들을 출력한다.\n",
    "\n",
    "'''\n",
    "\n",
    "##########################YOUR CODE##################################\n",
    "\n",
    "# 1. 저장할 리스트 선언 \n",
    "word_list_old = []\n",
    "word_list_new = []\n",
    "\n",
    "# 2. 리스트 안에 입력되는 단어들 전부 집어넣기\n",
    "iter = int(input())\n",
    "for i in range(0,iter):\n",
    "    input_word = input()\n",
    "    word_list_old.append(input_word)\n",
    "\n",
    "\n",
    "# 3. 중복 삭제 먼저\n",
    "word_list_old = list(set(word_list_old))\n",
    "\n",
    "# 4. 딕셔너리 순으로 먼저 정렬하기?\n",
    "\n",
    "word_list_old.sort()\n",
    "\n",
    "# 5. for문으로 새롭게 정렬하기?\n",
    "shortest_len = 100000000000\n",
    "\n",
    "for word in word_list_old:\n",
    "    if len(word)<shortest_len:\n",
    "        shortest_len = len(word)\n",
    "        # print(shortest_len)\n",
    "while len(word_list_old) != len(word_list_new):\n",
    "    for word in word_list_old:\n",
    "        if len(word) == shortest_len:\n",
    "            word_list_new.append(word)\n",
    "            print(word)\n",
    "    shortest_len +=1\n",
    "\n",
    "\n",
    "\n"
   ]
  },
  {
   "cell_type": "code",
   "execution_count": null,
   "metadata": {},
   "outputs": [],
   "source": [
    "l = ['bird', 'apple', 'sex', 'car', 'feeling','car']\n",
    "l = list(set(l))\n",
    "l.sort()\n",
    "\n",
    "ll = []\n",
    "\n",
    "shortest_len = 100000000000\n",
    "for word in l:\n",
    "    if len(word)<shortest_len:\n",
    "        shortest_len = len(word)\n",
    "        print(shortest_len)\n",
    "\n",
    "while len(ll) != len(l):\n",
    "    for word in l:\n",
    "        if len(word) == shortest_len:\n",
    "            ll.append(word)\n",
    "    shortest_len += 1\n",
    "\n",
    "\n",
    "print(ll)"
   ]
  }
 ],
 "metadata": {
  "kernelspec": {
   "display_name": "py38",
   "language": "python",
   "name": "python3"
  },
  "language_info": {
   "codemirror_mode": {
    "name": "ipython",
    "version": 3
   },
   "file_extension": ".py",
   "mimetype": "text/x-python",
   "name": "python",
   "nbconvert_exporter": "python",
   "pygments_lexer": "ipython3",
   "version": "3.8.18"
  }
 },
 "nbformat": 4,
 "nbformat_minor": 2
}
