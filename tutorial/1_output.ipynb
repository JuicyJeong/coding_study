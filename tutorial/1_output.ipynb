{
 "cells": [
  {
   "cell_type": "markdown",
   "metadata": {},
   "source": [
    "## solved.ac에서 제공하는 새싹 티어 - 출력 파트\n"
   ]
  },
  {
   "cell_type": "code",
   "execution_count": null,
   "metadata": {},
   "outputs": [],
   "source": [
    "'''\n",
    "2557번\n",
    "Hello World!를 출력하시오.\n",
    "'''\n",
    "\n",
    "##########################YOUR CODE##################################\n",
    "print('hello world')"
   ]
  },
  {
   "cell_type": "code",
   "execution_count": null,
   "metadata": {},
   "outputs": [],
   "source": [
    "'''\n",
    "10699번\n",
    "서울의 오늘 날짜를 출력하는 프로그램을 작성하시오.\n",
    "\n",
    "서울의 오늘 날짜를 \"YYYY-MM-DD\" 형식으로 출력한다.\n",
    "'''\n",
    "##########################YOUR CODE##################################\n",
    "\n",
    "from datetime import datetime\n",
    "\n",
    "now  = datetime.now()\n",
    "print(now.strftime('%Y-%m-%d'))"
   ]
  },
  {
   "cell_type": "code",
   "execution_count": null,
   "metadata": {},
   "outputs": [],
   "source": [
    "'''\n",
    "7287번\n",
    "자신이 백준 온라인 저지(BOJ)에서 맞은 문제의 수와 아이디를 그대로 출력하는 프로그램을 작성하시오.\n",
    "\n",
    "'''\n",
    "##########################YOUR CODE##################################\n",
    "\n",
    "numof_answer = 2\n",
    "userID = 'juicy_abo'\n",
    "# 이걸로 된다고...?\n",
    "\n",
    "print(numof_answer)\n",
    "print(userID)"
   ]
  },
  {
   "cell_type": "code",
   "execution_count": null,
   "metadata": {},
   "outputs": [],
   "source": [
    "'''\n",
    "10171번 \n",
    "아래 예제와 같이 고양이를 출력하시오.\n",
    "\n",
    "\\    /\\\n",
    " )  ( ')\n",
    "(  /  )\n",
    " \\(__)|\n",
    "'''\n",
    "##########################YOUR CODE##################################\n",
    "\n",
    "print(\"\\\\    /\\\\\")\n",
    "print(\" )  ( ')\")\n",
    "print(\"(  /  )\")\n",
    "print(\" \\\\(__)|\")"
   ]
  },
  {
   "cell_type": "code",
   "execution_count": 1,
   "metadata": {},
   "outputs": [
    {
     "data": {
      "text/plain": [
       "''"
      ]
     },
     "execution_count": 1,
     "metadata": {},
     "output_type": "execute_result"
    }
   ],
   "source": [
    "'''\n",
    "10172번\n",
    "아래 예제와 같이 개를 출력하시오.\n",
    "\n",
    "|\\_/|\n",
    "|q p|   /}\n",
    "( 0 )\"\"\"\\\n",
    "|\"^\"`    |\n",
    "||_/=\\\\__|\n",
    "\n",
    "'''\n",
    "##########################YOUR CODE##################################\n",
    "\n",
    "print('|\\\\_/|')\n",
    "print('|q p|   /}')\n",
    "print('( 0 )\"\"\"\\\\')\n",
    "print('|\"^\"`    |')\n",
    "print('||_/=\\\\\\\\__|')"
   ]
  },
  {
   "cell_type": "code",
   "execution_count": null,
   "metadata": {},
   "outputs": [],
   "source": [
    "'''\n",
    "25083번\n",
    "아래 예제와 같이 새싹을 출력하시오.\n",
    "\n",
    "         ,r'\"7\n",
    "r`-_   ,'  ,/\n",
    " \\. \". L_r'\n",
    "   `~\\/\n",
    "      |\n",
    "      |\n",
    "'''\n",
    "##########################YOUR CODE##################################\n",
    "print('''         ,r'\"7\\nr`-_   ,'  ,/\\n \\\\. \". L_r'\\n   `~\\\\/\\n      |\\n      |''')\n"
   ]
  }
 ],
 "metadata": {
  "kernelspec": {
   "display_name": "py38",
   "language": "python",
   "name": "python3"
  },
  "language_info": {
   "codemirror_mode": {
    "name": "ipython",
    "version": 3
   },
   "file_extension": ".py",
   "mimetype": "text/x-python",
   "name": "python",
   "nbconvert_exporter": "python",
   "pygments_lexer": "ipython3",
   "version": "3.8.18"
  }
 },
 "nbformat": 4,
 "nbformat_minor": 2
}
