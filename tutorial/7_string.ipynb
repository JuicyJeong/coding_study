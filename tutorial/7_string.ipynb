{
 "cells": [
  {
   "cell_type": "markdown",
   "metadata": {},
   "source": [
    "## solved.ac에서 제공하는 새싹 티어 - 문자열\n",
    "\n"
   ]
  },
  {
   "cell_type": "code",
   "execution_count": 1,
   "metadata": {},
   "outputs": [
    {
     "name": "stdout",
     "output_type": "stream",
     "text": [
      "97\n"
     ]
    }
   ],
   "source": [
    "'''\n",
    "11654번\n",
    "알파벳 소문자, 대문자, 숫자 0-9중 하나가 주어졌을 때, 주어진 글자의 아스키 코드값을 출력하는 프로그램을 작성하시오.\n",
    "\n",
    "알파벳 소문자, 대문자, 숫자 0-9 중 하나가 첫째 줄에 주어진다.\n",
    "\n",
    "입력으로 주어진 글자의 아스키 코드 값을 출력한다.\n",
    "'''\n",
    "\n",
    "##########################YOUR CODE##################################\n",
    "\n",
    "input_string  = input()\n",
    "\n",
    "# ord(char) >> 글자에 맞는 아스키 코드를 반환 \n",
    "# chr(number) >> 아스키 코드에 대응되는 캐릭터를 반환\n",
    "\n",
    "result = ord(input_string)\n",
    "print(result)"
   ]
  },
  {
   "cell_type": "code",
   "execution_count": null,
   "metadata": {},
   "outputs": [
    {
     "name": "stdout",
     "output_type": "stream",
     "text": [
      "97\n"
     ]
    }
   ],
   "source": [
    "'''\n",
    "2743번\n",
    "알파벳으로만 이루어진 단어를 입력받아, 그 길이를 출력하는 프로그램을 작성하시오.\n",
    "\n",
    "첫째 줄에 영어 소문자와 대문자로만 이루어진 단어가 주어진다. 단어의 길이는 최대 100이다.\n",
    "\n",
    "첫째 줄에 입력으로 주어진 단어의 길이를 출력한다.\n",
    "'''\n",
    "\n",
    "##########################YOUR CODE##################################\n",
    "\n",
    "input_string  = input()\n",
    "\n",
    "\n",
    "\n",
    "result = len(input_string)\n",
    "print(result)"
   ]
  },
  {
   "cell_type": "code",
   "execution_count": null,
   "metadata": {},
   "outputs": [
    {
     "name": "stdout",
     "output_type": "stream",
     "text": [
      "97\n"
     ]
    }
   ],
   "source": [
    "'''\n",
    "2744번\n",
    "영어 소문자와 대문자로 이루어진 단어를 입력받은 뒤, 대문자는 소문자로, 소문자는 대문자로 바꾸어 출력하는 프로그램을 작성하시오.\n",
    "\n",
    "첫째 줄에 영어 소문자와 대문자로만 이루어진 단어가 주어진다. 단어의 길이는 최대 100이다.\n",
    "\n",
    "첫째 줄에 입력으로 주어진 단어에서 대문자는 소문자로, 소문자는 대문자로 바꾼 단어를 출력한다.\n",
    "\n",
    "'''\n",
    "\n",
    "##########################YOUR CODE##################################\n",
    "\n",
    "input_string  = input()\n",
    "\n",
    "\n",
    "\n",
    "result = input_string.swapcase()\n",
    "print(result)"
   ]
  },
  {
   "cell_type": "code",
   "execution_count": null,
   "metadata": {},
   "outputs": [
    {
     "name": "stdout",
     "output_type": "stream",
     "text": [
      "97\n"
     ]
    }
   ],
   "source": [
    "'''\n",
    "2754번\n",
    "어떤 사람의 C언어 성적이 주어졌을 때, 평점은 몇 점인지 출력하는 프로그램을 작성하시오.\n",
    "A+: 4.3, A0: 4.0, A-: 3.7\n",
    "B+: 3.3, B0: 3.0, B-: 2.7\n",
    "C+: 2.3, C0: 2.0, C-: 1.7\n",
    "D+: 1.3, D0: 1.0, D-: 0.7\n",
    "F: 0.0\n",
    "\n",
    "첫째 줄에 C언어 성적이 주어진다. 성적은 문제에서 설명한 13가지 중 하나이다.\n",
    "\n",
    "첫째 줄에 C언어 평점을 출력한다.\n",
    "'''\n",
    "\n",
    "##########################YOUR CODE##################################\n",
    "\n",
    "input_string  = input()\n",
    "\n",
    "table = {\n",
    "'A+': 4.3, 'A0': 4.0, 'A-': 3.7,\n",
    "'B+': 3.3, 'B0': 3.0, 'B-': 2.7,\n",
    "'C+': 2.3, 'C0': 2.0, 'C-': 1.7,\n",
    "'D+': 1.3, 'D0': 1.0, 'D-': 0.7,\n",
    "'F': 0.0\n",
    "}\n",
    "\n",
    "\n",
    "result = table[input_string]\n",
    "print(result)"
   ]
  },
  {
   "cell_type": "code",
   "execution_count": null,
   "metadata": {},
   "outputs": [],
   "source": [
    "'''\n",
    "27866번\n",
    "단어 S와 정수 i가 주어졌을 때, S의 i번째 글자를 출력하는 프로그램을 작성하시오.\n",
    "\n",
    "첫째 줄에 영어 소문자와 대문자로만 이루어진 단어 S가 주어진다. 단어의 길이는 최대 1,000이다.\n",
    "둘째 줄에 정수 i가 주어진다.\n",
    "\n",
    "S의 i번째 글자를 출력한다.\n",
    "\n",
    "\n",
    "'''\n",
    "\n",
    "##########################YOUR CODE##################################\n",
    "\n",
    "input_string  = input()\n",
    "input_num = int(input())\n",
    "\n",
    "\n",
    "result = input_string[input_num -1]\n",
    "print(result)"
   ]
  },
  {
   "cell_type": "code",
   "execution_count": null,
   "metadata": {},
   "outputs": [],
   "source": [
    "'''\n",
    "11718번\n",
    "입력 받은 대로 출력하는 프로그램을 작성하시오.\n",
    "\n",
    "입력이 주어진다. 입력은 최대 100줄로 이루어져 있고, 알파벳 소문자, 대문자, 공백, 숫자로만 이루어져 있다. \n",
    "각 줄은 100글자를 넘지 않으며, 빈 줄은 주어지지 않는다. 또, 각 줄은 공백으로 시작하지 않고, 공백으로 끝나지 않는다.\n",
    "\n",
    "입력받은 그대로 출력한다.\n",
    "\n",
    "'''\n",
    "\n",
    "##########################YOUR CODE##################################\n",
    "import sys\n",
    "\n",
    "for line in sys.stdin:\n",
    "    print(line, end='')"
   ]
  },
  {
   "cell_type": "code",
   "execution_count": 3,
   "metadata": {},
   "outputs": [
    {
     "name": "stdout",
     "output_type": "stream",
     "text": [
      "A E\n",
      "O O\n",
      "A B\n"
     ]
    }
   ],
   "source": [
    "'''\n",
    "9086번\n",
    "문자열을 입력으로 주면 문자열의 첫 글자와 마지막 글자를 출력하는 프로그램을 작성하시오.\n",
    "\n",
    "입력의 첫 줄에는 테스트 케이스의 개수 T(1 ≤ T ≤ 10)가 주어진다. 각 테스트 케이스는 한 줄에 하나의 문자열이 주어진다. \n",
    "문자열은 알파벳 A~Z 대문자로 이루어지며 알파벳 사이에 공백은 없으며 문자열의 길이는 1000보다 작다.\n",
    "\n",
    "각 테스트 케이스에 대해서 주어진 문자열의 첫 글자와 마지막 글자를 연속하여 출력한다.\n",
    "\n",
    "'''\n",
    "\n",
    "##########################YOUR CODE##################################\n",
    "iter = int(input())\n",
    "for i in range(0,iter):\n",
    "    input_str = input()\n",
    "    chr_1  = input_str[0]\n",
    "    chr_N  = input_str[-1]\n",
    "    result = chr_1+chr_N\n",
    "    print(result) \n"
   ]
  }
 ],
 "metadata": {
  "kernelspec": {
   "display_name": "py38",
   "language": "python",
   "name": "python3"
  },
  "language_info": {
   "codemirror_mode": {
    "name": "ipython",
    "version": 3
   },
   "file_extension": ".py",
   "mimetype": "text/x-python",
   "name": "python",
   "nbconvert_exporter": "python",
   "pygments_lexer": "ipython3",
   "version": "3.8.18"
  }
 },
 "nbformat": 4,
 "nbformat_minor": 2
}
