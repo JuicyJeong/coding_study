{
 "cells": [
  {
   "cell_type": "markdown",
   "metadata": {},
   "source": [
    "## solved.ac에서 제공하는 새싹 티어 - 함수\n",
    "\n"
   ]
  },
  {
   "cell_type": "code",
   "execution_count": 1,
   "metadata": {},
   "outputs": [
    {
     "name": "stdout",
     "output_type": "stream",
     "text": [
      "97\n"
     ]
    }
   ],
   "source": [
    "'''\n",
    "15964번\n",
    "연산자의 기호는 ＠으로, A＠B = (A+B)×(A-B)으로 정의내리기로 했다.\n",
    "하지만, 효진이는 막상 큰 숫자가 들어오자 계산하기 너무 귀찮아졌다.\n",
    "효진이를 도와 정수 A, B가 주어지면 A＠B를 계산하는 프로그램을 만들어주자!\n",
    "\n",
    "첫째 줄에 A, B가 주어진다. (1 ≤ A, B ≤ 100,000)\n",
    "\n",
    "첫째 줄에 A＠B의 결과를 출력한다.\n",
    "\n",
    "\n",
    "\n",
    "'''\n",
    "\n",
    "##########################YOUR CODE##################################\n",
    "\n",
    "def a_at_b( a, b):\n",
    "    res = (a+b)*(a-b)\n",
    "    return res\n",
    "    \n",
    "\n",
    "\n",
    "a, b  = map(int, input().split())\n",
    "\n",
    "result = a_at_b(a,b)\n",
    "\n",
    "print(result)"
   ]
  },
  {
   "cell_type": "code",
   "execution_count": 2,
   "metadata": {},
   "outputs": [
    {
     "name": "stdout",
     "output_type": "stream",
     "text": [
      "1\n"
     ]
    }
   ],
   "source": [
    "'''\n",
    "2475번\n",
    "컴퓨터를 제조하는 회사인 KOI 전자에서는 제조하는 컴퓨터마다 6자리의 고유번호를 매긴다. \n",
    "고유번호의 처음 5자리에는 00000부터 99999까지의 수 중 하나가 주어지며 6번째 자리에는 검증수가 들어간다. \n",
    "검증수는 고유번호의 처음 5자리에 들어가는 5개의 숫자를 각각 제곱한 수의 합을 10으로 나눈 나머지이다.\n",
    "예를 들어 고유번호의 처음 5자리의 숫자들이 04256이면, 각 숫자를 제곱한 수들의 합 0+16+4+25+36 = 81 을 10으로 나눈 나머지인 1이 검증수이다.\n",
    "\n",
    "\n",
    "첫째 줄에 고유번호의 처음 5자리의 숫자들이 빈칸을 사이에 두고 하나씩 주어진다.\n",
    "\n",
    "\n",
    "첫째 줄에 검증수를 출력한다.\n",
    "\n",
    "'''\n",
    "\n",
    "##########################YOUR CODE##################################\n",
    "\n",
    "def verify_number(five_num_list):\n",
    "    sum_of_square = 0\n",
    "    for num in five_num_list:\n",
    "        sq = int(num)**2\n",
    "        sum_of_square = sum_of_square + sq\n",
    "    \n",
    "    result = sum_of_square % 10\n",
    "    return result\n",
    "\n",
    "five_num_list = input().split(\" \")\n",
    "\n",
    "result = verify_number(five_num_list)\n",
    "\n",
    "print(result)\n"
   ]
  }
 ],
 "metadata": {
  "kernelspec": {
   "display_name": "py38",
   "language": "python",
   "name": "python3"
  },
  "language_info": {
   "codemirror_mode": {
    "name": "ipython",
    "version": 3
   },
   "file_extension": ".py",
   "mimetype": "text/x-python",
   "name": "python",
   "nbconvert_exporter": "python",
   "pygments_lexer": "ipython3",
   "version": "3.8.18"
  }
 },
 "nbformat": 4,
 "nbformat_minor": 2
}
