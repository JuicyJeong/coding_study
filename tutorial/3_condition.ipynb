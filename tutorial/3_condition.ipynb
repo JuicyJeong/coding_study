{
 "cells": [
  {
   "cell_type": "markdown",
   "metadata": {},
   "source": [
    "## solved.ac에서 제공하는 새싹 티어 - 조건 파트\n"
   ]
  },
  {
   "cell_type": "code",
   "execution_count": null,
   "metadata": {},
   "outputs": [],
   "source": [
    "'''\n",
    "1330번\n",
    "두 정수 A와 B가 주어졌을 때, A와 B를 비교하는 프로그램을 작성하시오.\n",
    "\n",
    "첫째 줄에 A와 B가 주어진다. A와 B는 공백 한 칸으로 구분되어져 있다.\n",
    "\n",
    "\n",
    "첫째 줄에 다음 세 가지 중 하나를 출력한다.\n",
    "\n",
    "A가 B보다 큰 경우에는 '>'를 출력한다.\n",
    "A가 B보다 작은 경우에는 '<'를 출력한다.\n",
    "A와 B가 같은 경우에는 '=='를 출력한다.\n",
    "\n",
    "'''\n",
    "\n",
    "##########################YOUR CODE##################################\n",
    "a, b = map(int, input().split())\n",
    "\n",
    "if(a<b):\n",
    "    print(\"<\")\n",
    "elif(a>b):\n",
    "    print(\">\")\n",
    "elif(a==b):\n",
    "    print(\"==\")"
   ]
  },
  {
   "cell_type": "code",
   "execution_count": null,
   "metadata": {},
   "outputs": [],
   "source": [
    "'''\n",
    "9498번\n",
    "시험 점수를 입력받아 90 ~ 100점은 A, 80 ~ 89점은 B, 70 ~ 79점은 C, 60 ~ 69점은 D, \n",
    "나머지 점수는 F를 출력하는 프로그램을 작성하시오.\n",
    "\n",
    "첫째 줄에 시험 점수가 주어진다. 시험 점수는 0보다 크거나 같고, 100보다 작거나 같은 정수이다.\n",
    "\n",
    "시험 성적을 출력한다.\n",
    "'''\n",
    "\n",
    "##########################YOUR CODE##################################\n",
    "score = int(input())\n",
    "\n",
    "if score >= 90:\n",
    "    print(\"A\")\n",
    "elif score >= 80:\n",
    "    print(\"B\")\n",
    "elif score >= 70:\n",
    "    print(\"C\")\n",
    "elif score >=60:\n",
    "    print(\"D\")\n",
    "else:\n",
    "    print(\"F\")"
   ]
  },
  {
   "cell_type": "code",
   "execution_count": null,
   "metadata": {},
   "outputs": [],
   "source": [
    "'''\n",
    "14681번\n",
    "점의 좌표를 입력받아 그 점이 어느 사분면에 속하는지 알아내는 프로그램을 작성하시오. \n",
    "단, x좌표와 y좌표는 모두 양수나 음수라고 가정한다.\n",
    "\n",
    "첫 줄에는 정수 x가 주어진다. (−1000 ≤ x ≤ 1000; x ≠ 0) 다음 줄에는 정수 y가 주어진다. \n",
    "(−1000 ≤ y ≤ 1000; y ≠ 0)\n",
    "\n",
    "점 (x, y)의 사분면 번호(1, 2, 3, 4 중 하나)를 출력한다.\n",
    "\n",
    "\n",
    "'''\n",
    "##########################YOUR CODE##################################\n",
    "x = int(input())\n",
    "y = int(input())\n",
    "\n",
    "if x < 0:\n",
    "    if y<0:\n",
    "        print(3)\n",
    "    else:\n",
    "        print(2)\n",
    "else:\n",
    "    if y<0:\n",
    "        print(4)\n",
    "    else:\n",
    "        print(1)"
   ]
  },
  {
   "cell_type": "code",
   "execution_count": null,
   "metadata": {},
   "outputs": [],
   "source": [
    "'''\n",
    "2753번 \n",
    "연도가 주어졌을 때, 윤년이면 1, 아니면 0을 출력하는 프로그램을 작성하시오.\n",
    "윤년은 연도가 4의 배수이면서, 100의 배수가 아닐 때 또는 400의 배수일 때이다.\n",
    "예를 들어, 2012년은 4의 배수이면서 100의 배수가 아니라서 윤년이다. \n",
    "1900년은 100의 배수이고 400의 배수는 아니기 때문에 윤년이 아니다. 하지만, 2000년은 400의 배수이기 때문에 윤년이다.\n",
    "\n",
    "첫째 줄에 연도가 주어진다. 연도는 1보다 크거나 같고, 4000보다 작거나 같은 자연수이다.\n",
    "\n",
    "첫째 줄에 윤년이면 1, 아니면 0을 출력한다.\n",
    "'''\n",
    "##########################YOUR CODE##################################\n",
    "\n",
    "years = int(input())\n",
    "\n",
    "if (years%4 == 0  and  years%100 != 0) or (years%400 == 0): #4의 배수일때 케이스\n",
    "    print(1)\n",
    "else:\n",
    "    print(0)"
   ]
  },
  {
   "cell_type": "code",
   "execution_count": 1,
   "metadata": {},
   "outputs": [
    {
     "data": {
      "text/plain": [
       "''"
      ]
     },
     "execution_count": 1,
     "metadata": {},
     "output_type": "execute_result"
    }
   ],
   "source": [
    "'''\n",
    "1008번\n",
    "사파리월드는 인터넷으로만 존재하는 미스테리한 나라이다. \n",
    "사파리월드에는 2개의 서브도메인이 seunghwan.royal.gov.sw와 kyuhyun.royal.gov.sw 이 있는데, \n",
    "이것이 couple.royal.gov.sw으로 합쳐질 것이다. 그러나 도메인 관리 센터 SWNIC(센터장: 김동규)에는 엄격한 룰이 있다. \n",
    "두 서브도메인을 합칠 때, 유명도의 차이가 너무 차이나지 않을 경우에만 두 서브도메인을 결혼시키는 것이다. \n",
    "서브도메인의 유명도는 정수이다. 두 서브도메인의 유명도가 주어졌을 때, 그 차이를 구하는 프로그램을 작성하시오.\n",
    "\n",
    "첫째 줄에 두 도메인의 유명도 N과 M이 주어진다. (-2,000,000,000 ≤ N, M ≤ 2,000,000,000)\n",
    "\n",
    "첫째 줄에 두 유명도의 차이 (|N-M|)을 출력한다.\n",
    "\n",
    "\n",
    "'''\n",
    "##########################YOUR CODE##################################\n",
    "x, y = map(int, input(\"\").split())\n",
    "\n",
    "raw = x - y\n",
    "if raw < 0:\n",
    "    print(-raw)\n",
    "else:\n",
    "    print(raw)"
   ]
  }
 ],
 "metadata": {
  "kernelspec": {
   "display_name": "py38",
   "language": "python",
   "name": "python3"
  },
  "language_info": {
   "codemirror_mode": {
    "name": "ipython",
    "version": 3
   },
   "file_extension": ".py",
   "mimetype": "text/x-python",
   "name": "python",
   "nbconvert_exporter": "python",
   "pygments_lexer": "ipython3",
   "version": "3.8.18"
  }
 },
 "nbformat": 4,
 "nbformat_minor": 2
}
