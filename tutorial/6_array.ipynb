{
 "cells": [
  {
   "cell_type": "markdown",
   "metadata": {},
   "source": [
    "## solved.ac에서 제공하는 새싹 티어 - 배열\n",
    "\n"
   ]
  },
  {
   "cell_type": "code",
   "execution_count": 7,
   "metadata": {},
   "outputs": [
    {
     "name": "stdout",
     "output_type": "stream",
     "text": [
      "1 4 2 3\n"
     ]
    }
   ],
   "source": [
    "'''\n",
    "10871번\n",
    "정수 N개로 이루어진 수열 A와 정수 X가 주어진다. 이때, A에서 X보다 작은 수를 모두 출력하는 프로그램을 작성하시오.\n",
    "\n",
    "첫째 줄에 N과 X가 주어진다. (1 ≤ N, X ≤ 10,000)\n",
    "둘째 줄에 수열 A를 이루는 정수 N개가 주어진다. 주어지는 정수는 모두 1보다 크거나 같고, 10,000보다 작거나 같은 정수이다.\n",
    "\n",
    "X보다 작은 수를 입력받은 순서대로 공백으로 구분해 출력한다. X보다 작은 수는 적어도 하나 존재한다.\n",
    "10 5\n",
    "1 10 4 9 2 3 8 5 7 6\n",
    "'''\n",
    "\n",
    "##########################YOUR CODE##################################\n",
    "\n",
    "n, x = map(int, input().split())\n",
    "\n",
    "\n",
    "arr = list(input().split())\n",
    "\n",
    "result = []\n",
    "for i in range(0, n):\n",
    "    if int(arr[i])< x:\n",
    "        result.append(int(arr[i]))\n",
    "\n",
    "print(*result)"
   ]
  },
  {
   "cell_type": "code",
   "execution_count": 3,
   "metadata": {},
   "outputs": [
    {
     "name": "stdout",
     "output_type": "stream",
     "text": [
      "3\n"
     ]
    }
   ],
   "source": [
    "'''\n",
    "10807번\n",
    "\n",
    "총 N개의 정수가 주어졌을 때, 정수 v가 몇 개인지 구하는 프로그램을 작성하시오.\n",
    "\n",
    "첫째 줄에 정수의 개수 N(1 ≤ N ≤ 100)이 주어진다. \n",
    "둘째 줄에는 정수가 공백으로 구분되어져있다. \n",
    "셋째 줄에는 찾으려고 하는 정수 v가 주어진다. 입력으로 주어지는 정수와 v는 -100보다 크거나 같으며, 100보다 작거나 같다.\n",
    "\n",
    "첫째 줄에 입력으로 주어진 N개의 정수 중에 v가 몇 개인지 출력한다.\n",
    "'''\n",
    "\n",
    "##########################YOUR CODE##################################\n",
    "n = int(input())\n",
    "arr = list(input().split()) # arr의 모든 요소를 타입변환 가능?\n",
    "find_v = int(input())\n",
    "\n",
    "result = 0\n",
    "for i in range(0, len(arr)):\n",
    "    if int(arr[i]) == find_v:\n",
    "        result +=1\n",
    "\n",
    "print(result)\n"
   ]
  },
  {
   "cell_type": "code",
   "execution_count": null,
   "metadata": {},
   "outputs": [],
   "source": [
    "'''\n",
    "5597번\n",
    "\n",
    "X대학 M교수님은 프로그래밍 수업을 맡고 있다. 교실엔 학생이 30명이 있는데, \n",
    "학생 명부엔 각 학생별로 1번부터 30번까지 출석번호가 붙어 있다.\n",
    "교수님이 내준 특별과제를 28명이 제출했는데, 그 중에서 제출 안 한 학생 2명의 출석번호를 구하는 프로그램을 작성하시오.\n",
    "\n",
    "입력은 총 28줄로 각 제출자(학생)의 출석번호 n(1 ≤ n ≤ 30)가 한 줄에 하나씩 주어진다. 출석번호에 중복은 없다.\n",
    "\n",
    "출력은 2줄이다. 1번째 줄엔 제출하지 않은 학생의 출석번호 중 가장 작은 것을 출력하고, 2번째 줄에선 그 다음 출석번호를 출력한다.\n",
    "'''\n",
    "\n",
    "\n",
    "submitted = []\n",
    "for i in range(0,28):\n",
    "    num = int(input())\n",
    "    submitted.append(num)\n",
    "\n",
    "#입력 다하고 빈 번호 찾기. 먼저 순서대로 sort\n",
    "submitted.sort()\n",
    "for i in range(1,31):\n",
    "    if i in submitted:\n",
    "        True\n",
    "    else: # \n",
    "        print(i)\n",
    "    \n",
    "\n",
    "##################################### comment#########################\n",
    "''' \n",
    "찾을 때 리스트 길이로 돌지 말고 상수 선언해서 돌아야 확실하게 돌 수 있다... 이래서 오답 한번 났었음\n",
    "'''"
   ]
  },
  {
   "cell_type": "code",
   "execution_count": null,
   "metadata": {},
   "outputs": [],
   "source": [
    "'''\n",
    "2738번\n",
    "\n",
    "N*M크기의 두 행렬 A와 B가 주어졌을 때, 두 행렬을 더하는 프로그램을 작성하시오.\n",
    "\n",
    "\n",
    "첫째 줄에 행렬의 크기 N 과 M이 주어진다. 둘째 줄부터 N개의 줄에 행렬 A의 원소 M개가 차례대로 주어진다. \n",
    "이어서 N개의 줄에 행렬 B의 원소 M개가 차례대로 주어진다. N과 M은 100보다 작거나 같고, 행렬의 원소는 절댓값이 100보다 작거나 같은 정수이다.\n",
    "\n",
    "\n",
    "첫째 줄부터 N개의 줄에 행렬 A와 B를 더한 행렬을 출력한다. 행렬의 각 원소는 공백으로 구분한다.\n",
    "'''\n",
    "n , m = map(int,input().split())\n",
    "\n",
    "arr_a=[]\n",
    "arr_b=[]\n",
    "\n",
    "for a in range(n):\n",
    "    a = list(map(int,input().split()))\n",
    "    arr_a.append(a)\n",
    "    \n",
    "for b in range(n):\n",
    "    b = list(map(int,input().split()))\n",
    "    arr_b.append(b)\n",
    "    \n",
    "for row in range(n):\n",
    "    for col in range(m):\n",
    "        print(arr_a[row][col]+arr_b[row][col],end=' ')\n",
    "    print()"
   ]
  }
 ],
 "metadata": {
  "kernelspec": {
   "display_name": "py38",
   "language": "python",
   "name": "python3"
  },
  "language_info": {
   "codemirror_mode": {
    "name": "ipython",
    "version": 3
   },
   "file_extension": ".py",
   "mimetype": "text/x-python",
   "name": "python",
   "nbconvert_exporter": "python",
   "pygments_lexer": "ipython3",
   "version": "3.8.18"
  }
 },
 "nbformat": 4,
 "nbformat_minor": 2
}
