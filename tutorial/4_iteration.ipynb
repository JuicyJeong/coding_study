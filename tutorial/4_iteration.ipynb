{
 "cells": [
  {
   "cell_type": "markdown",
   "metadata": {},
   "source": [
    "## solved.ac에서 제공하는 새싹 티어 - 반복 파트\n"
   ]
  },
  {
   "cell_type": "code",
   "execution_count": null,
   "metadata": {},
   "outputs": [],
   "source": [
    "'''\n",
    "2741번\n",
    "자연수 N이 주어졌을 때, 1부터 N까지 한 줄에 하나씩 출력하는 프로그램을 작성하시오.\n",
    "\n",
    "첫째 줄에 100,000보다 작거나 같은 자연수 N이 주어진다.\n",
    "\n",
    "첫째 줄부터 N번째 줄 까지 차례대로 출력한다.\n",
    "\n",
    "'''\n",
    "\n",
    "##########################YOUR CODE##################################\n",
    "input_n = int(input())\n",
    "\n",
    "for i in range(1,input_n+1):\n",
    "    print(i)"
   ]
  },
  {
   "cell_type": "code",
   "execution_count": null,
   "metadata": {},
   "outputs": [],
   "source": [
    "'''\n",
    "10872번\n",
    "0보다 크거나 같은 정수 N이 주어진다. 이때, N!을 출력하는 프로그램을 작성하시오.\n",
    "\n",
    "첫째 줄에 정수 N(0 ≤ N ≤ 12)이 주어진다.\n",
    "\n",
    "첫째 줄에 N!을 출력한다.\n",
    "\n",
    "'''\n",
    "\n",
    "##########################YOUR CODE##################################\n",
    "input_n = int(input())\n",
    "result = 1\n",
    "\n",
    "for i in range(0,input_n):\n",
    "    result *= (input_n - i)\n",
    "        \n",
    "print(result)"
   ]
  },
  {
   "cell_type": "code",
   "execution_count": null,
   "metadata": {},
   "outputs": [],
   "source": [
    "'''\n",
    "10950번\n",
    "두 정수 A와 B를 입력받은 다음, A+B를 출력하는 프로그램을 작성하시오.\n",
    "\n",
    "첫째 줄에 테스트 케이스의 개수 T가 주어진다.\n",
    "각 테스트 케이스는 한 줄로 이루어져 있으며, 각 줄에 A와 B가 주어진다. (0 < A, B < 10)\n",
    "\n",
    "각 테스트 케이스마다 A+B를 출력한다.\n",
    "'''\n",
    "##########################YOUR CODE##################################\n",
    "t_num = int(input())\n",
    "# a, b = map(int, input().split())\n",
    "\n",
    "for i in range(0, t_num):\n",
    "    a, b = map(int, input().split())\n",
    "    print(a+b)"
   ]
  },
  {
   "cell_type": "code",
   "execution_count": null,
   "metadata": {},
   "outputs": [],
   "source": [
    "'''\n",
    "10952번 \n",
    "두 정수 A와 B를 입력받은 다음, A+B를 출력하는 프로그램을 작성하시오.\n",
    "\n",
    "입력은 여러 개의 테스트 케이스로 이루어져 있다.\n",
    "각 테스트 케이스는 한 줄로 이루어져 있으며, 각 줄에 A와 B가 주어진다. (0 < A, B < 10)\n",
    "입력의 마지막에는 0 두 개가 들어온다.\n",
    "\n",
    "각 테스트 케이스마다 A+B를 출력한다.\n",
    "'''\n",
    "##########################YOUR CODE##################################\n",
    "\n",
    "while True:\n",
    "    a, b = map(int, input().split())\n",
    "    if a+b >0:\n",
    "        print(a+b)\n",
    "    else:\n",
    "        break"
   ]
  },
  {
   "cell_type": "code",
   "execution_count": 1,
   "metadata": {},
   "outputs": [
    {
     "data": {
      "text/plain": [
       "''"
      ]
     },
     "execution_count": 1,
     "metadata": {},
     "output_type": "execute_result"
    }
   ],
   "source": [
    "'''\n",
    "2739번\n",
    "N을 입력받은 뒤, 구구단 N단을 출력하는 프로그램을 작성하시오. 출력 형식에 맞춰서 출력하면 된다.\n",
    "\n",
    "첫째 줄에 N이 주어진다. N은 1보다 크거나 같고, 9보다 작거나 같다.\n",
    "\n",
    "출력형식과 같게 N*1부터 N*9까지 출력한다.\n",
    "'''\n",
    "##########################YOUR CODE##################################\n",
    "n_dan = int(input())\n",
    "\n",
    "for i in range(1,10):\n",
    "    result = n_dan * i\n",
    "\n",
    "    print(n_dan, \"*\", i, \"=\", result)"
   ]
  },
  {
   "cell_type": "code",
   "execution_count": null,
   "metadata": {},
   "outputs": [
    {
     "data": {
      "text/plain": [
       "''"
      ]
     },
     "metadata": {},
     "output_type": "display_data"
    }
   ],
   "source": [
    "'''\n",
    "2438번\n",
    "첫째 줄에는 별 1개, 둘째 줄에는 별 2개, N번째 줄에는 별 N개를 찍는 문제\n",
    "\n",
    "첫째 줄에 N(1 ≤ N ≤ 100)이 주어진다.\n",
    "\n",
    "첫째 줄부터 N번째 줄까지 차례대로 별을 출력한다.\n",
    "'''\n",
    "##########################YOUR CODE##################################\n",
    "n_stars = int(input())\n",
    "\n",
    "for i in range(1, n_stars+1):\n",
    "    print(\"*\"*i)"
   ]
  },
  {
   "cell_type": "code",
   "execution_count": null,
   "metadata": {},
   "outputs": [],
   "source": [
    "'''\n",
    "10951번\n",
    "두 정수 A와 B를 입력받은 다음, A+B를 출력하는 프로그램을 작성하시오.\n",
    "\n",
    "입력은 여러 개의 테스트 케이스로 이루어져 있다.\n",
    "각 테스트 케이스는 한 줄로 이루어져 있으며, 각 줄에 A와 B가 주어진다. (0 < A, B < 10)\n",
    "\n",
    "각 테스트 케이스마다 A+B를 출력한다.\n",
    "'''\n",
    "##########################YOUR CODE##################################\n",
    "while True:\n",
    "    try:\n",
    "        a , b=map(int,input().split()) # map(function, iter1, iter2...)\n",
    "        results = a + b\n",
    "        print(results)\n",
    "    except:\n",
    "        break"
   ]
  }
 ],
 "metadata": {
  "kernelspec": {
   "display_name": "py38",
   "language": "python",
   "name": "python3"
  },
  "language_info": {
   "codemirror_mode": {
    "name": "ipython",
    "version": 3
   },
   "file_extension": ".py",
   "mimetype": "text/x-python",
   "name": "python",
   "nbconvert_exporter": "python",
   "pygments_lexer": "ipython3",
   "version": "3.8.18"
  }
 },
 "nbformat": 4,
 "nbformat_minor": 2
}
