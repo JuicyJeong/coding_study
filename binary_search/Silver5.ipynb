{
 "cells": [
  {
   "cell_type": "markdown",
   "metadata": {},
   "source": [
    "## binary_search - Silver 5\n"
   ]
  },
  {
   "cell_type": "code",
   "execution_count": 6,
   "metadata": {},
   "outputs": [
    {
     "name": "stdout",
     "output_type": "stream",
     "text": [
      "2\n"
     ]
    }
   ],
   "source": [
    "'''\n",
    "4158번\n",
    "\n",
    "상근이와 선영이는 동시에 가지고 있는 CD를 팔려고 한다. CD를 몇 개나 팔 수 있을까?\n",
    "\n",
    "\n",
    "입력은 여러 개의 테스트 케이스로 이루어져 있다. \n",
    "각 테스트 케이스의 첫째 줄에는 상근이가 가지고 있는 CD의 수 N, 선영이가 가지고 있는 CD의 수 M이 주어진다. N과 M은 최대 백만이다. \n",
    "다음 줄부터 N개 줄에는 상근이가 가지고 있는 CD의 번호가 오름차순으로 주어진다. \n",
    "다음 M개 줄에는 선영이가 가지고 있는 CD의 번호가 오름차순으로 주어진다. \n",
    "CD의 번호는 십억을 넘지 않는 양의 정수이다. \n",
    "입력의 마지막 줄에는 0 0이 주어진다.\n",
    "\n",
    "상근이와 선영이가 같은 CD를 여러장 가지고 있는 경우는 없다.\n",
    "\n",
    "\n",
    "두 사람이 동시에 가지고 있는 CD의 개수를 출력한다.\n",
    "\n",
    "\n",
    "\n",
    "서치할 때 if 있으면 +1\n",
    "'''\n",
    "\n",
    "##########################YOUR CODE##################################\n",
    "import sys\n",
    "\n",
    "while True:\n",
    "    N, M = map(int, sys.stdin.readline().split())\n",
    "    if N == 0 and M == 0:\n",
    "        break\n",
    "\n",
    "    set_N = set()\n",
    "    for _NOTUSED in range(N):\n",
    "        set_N.add(int(sys.stdin.readline()))\n",
    "    \n",
    "    answer = 0\n",
    "    for _NOTUSED in range(M):\n",
    "        num = int(sys.stdin.readline())\n",
    "        if(num in set_N):\n",
    "            answer += 1\n",
    "    print(answer)\n",
    "\n",
    "\n",
    "\n",
    "\n"
   ]
  },
  {
   "cell_type": "code",
   "execution_count": 7,
   "metadata": {},
   "outputs": [
    {
     "data": {
      "text/plain": [
       "'\\n10815번\\n\\n숫자 카드는 정수 하나가 적혀져 있는 카드이다. 상근이는 숫자 카드 N개를 가지고 있다. 정수 M개가 주어졌을 때, 이 수가 적혀있는 숫자 카드를 상근이가 가지고 있는지 아닌지를 구하는 프로그램을 작성하시오.\\n\\n입력은 여러 개의 테스트 케이스로 이루어져 있다. \\n각 테스트 케이스의 첫째 줄에는 상근이가 가지고 있는 CD의 수 N, 선영이가 가지고 있는 CD의 수 M이 주어진다. N과 M은 최대 백만이다. \\n다음 줄부터 N개 줄에는 상근이가 가지고 있는 CD의 번호가 오름차순으로 주어진다. \\n다음 M개 줄에는 선영이가 가지고 있는 CD의 번호가 오름차순으로 주어진다. \\nCD의 번호는 십억을 넘지 않는 양의 정수이다. \\n입력의 마지막 줄에는 0 0이 주어진다.\\n\\n상근이와 선영이가 같은 CD를 여러장 가지고 있는 경우는 없다.\\n\\n\\n두 사람이 동시에 가지고 있는 CD의 개수를 출력한다.\\n\\n\\n\\n서치할 때 if 있으면 +1\\n'"
      ]
     },
     "execution_count": 7,
     "metadata": {},
     "output_type": "execute_result"
    }
   ],
   "source": [
    "'''\n",
    "10815번\n",
    "\n",
    "숫자 카드는 정수 하나가 적혀져 있는 카드이다. 상근이는 숫자 카드 N개를 가지고 있다. \n",
    "정수 M개가 주어졌을 때, 이 수가 적혀있는 숫자 카드를 상근이가 가지고 있는지 아닌지를 구하는 프로그램을 작성하시오.\n",
    "\n",
    "첫째 줄에 상근이가 가지고 있는 숫자 카드의 개수 N(1 ≤ N ≤ 500,000)이 주어진다. \n",
    "둘째 줄에는 숫자 카드에 적혀있는 정수가 주어진다. \n",
    "숫자 카드에 적혀있는 수는 -10,000,000보다 크거나 같고, 10,000,000보다 작거나 같다. \n",
    "두 숫자 카드에 같은 수가 적혀있는 경우는 없다.\n",
    "\n",
    "셋째 줄에는 M(1 ≤ M ≤ 500,000)이 주어진다. \n",
    "넷째 줄에는 상근이가 가지고 있는 숫자 카드인지 아닌지를 구해야 할 M개의 정수가 주어지며, 이 수는 공백으로 구분되어져 있다. \n",
    "이 수도 -10,000,000보다 크거나 같고, 10,000,000보다 작거나 같다\n",
    "\n",
    "\n",
    "첫째 줄에 입력으로 주어진 M개의 수에 대해서, \n",
    "각 수가 적힌 숫자 카드를 상근이가 가지고 있으면 1을, 아니면 0을 공백으로 구분해 출력한다.\n",
    "\n",
    "'''\n",
    "\n",
    "##########################YOUR CODE##################################\n",
    "\n",
    "import sys\n",
    "N = int(sys.stdin.readline())\n",
    "given_cards = set(map(int, sys.stdin.readline().split()))\n",
    "\n",
    "\n",
    "M = int(sys.stdin.readline())\n",
    "task_cards = list(map(int, sys.stdin.readline().split()))\n",
    "\n",
    "\n",
    "answer = []\n",
    "for i in range(len(task_cards)):\n",
    "    if(task_cards[i] in given_cards):\n",
    "        answer.append(1)\n",
    "    else:\n",
    "        answer.append(0)\n",
    "print(*answer)\n",
    "\n",
    "\n",
    "\n",
    "##########################YOUR CODE##################################\n",
    "\n",
    "\n",
    "import sys\n",
    "N = int(sys.stdin.readline())\n",
    "given_cards = list(map(int, sys.stdin.readline().split()))\n",
    "given_cards.sort()\n",
    "\n",
    "M = int(sys.stdin.readline())\n",
    "task_cards = list(map(int, sys.stdin.readline().split()))\n",
    "# task_cards.sort()\n",
    "\n",
    "answer = []\n",
    "for i in range(len(task_cards)):\n",
    "    '''\n",
    "    중간점 찝어. 만약에 답이 아니면? \n",
    "        찝은게 답보다 크면 작은수로가기\n",
    "        찝은게 답보다 작으면 큰수로 가기\n",
    "    중간점의 중간점을 어케 찝음? len?\n",
    "    '''\n",
    "\n",
    "    start_Num = 0\n",
    "    end_Num = N-1\n",
    "    found = False  # 찾았는지 여부를 표시하는 플래그 변수\n",
    "    while start_Num <= end_Num:\n",
    "        center_num = (start_Num + end_Num) // 2\n",
    "\n",
    "        if task_cards[i] == given_cards[center_num]:\n",
    "            answer.append(1)\n",
    "            found = True\n",
    "            break\n",
    "        \n",
    "        elif task_cards[i] > given_cards[center_num]:\n",
    "            start_Num = center_num + 1\n",
    "        else:\n",
    "            end_Num = center_num - 1\n",
    "    if not found:\n",
    "        answer.append(0)\n",
    "\n",
    "print(*answer)\n",
    "\n"
   ]
  },
  {
   "cell_type": "code",
   "execution_count": null,
   "metadata": {},
   "outputs": [],
   "source": []
  }
 ],
 "metadata": {
  "kernelspec": {
   "display_name": "py38",
   "language": "python",
   "name": "python3"
  },
  "language_info": {
   "codemirror_mode": {
    "name": "ipython",
    "version": 3
   },
   "file_extension": ".py",
   "mimetype": "text/x-python",
   "name": "python",
   "nbconvert_exporter": "python",
   "pygments_lexer": "ipython3",
   "version": "3.8.18"
  }
 },
 "nbformat": 4,
 "nbformat_minor": 2
}
